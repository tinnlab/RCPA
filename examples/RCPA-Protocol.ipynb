{
 "cells": [
  {
   "cell_type": "markdown",
   "metadata": {},
   "source": [
    "# Install dependencies on Ubuntu Linux\n",
    "Users might need to install some dependencies on their system to be able to install all required R packages.\n",
    "We provide here the list of dependencies needed on the Ubuntu Linux system.\n",
    "Run the following command on Linux Shell to install the dependencies:"
   ]
  },
  {
   "cell_type": "markdown",
   "metadata": {},
   "source": [
    "```bash\n",
    "sudo apt-get -y install libcurl4-openssl-dev libxml2-dev libblas-dev liblapack-dev gfortran libpng-dev zlib1g-dev libudunits2-dev libssl-dev libgdal-dev\n",
    "```"
   ]
  },
  {
   "cell_type": "markdown",
   "metadata": {},
   "source": [
    "On some systems, the `preprocessCore` R package might encounter error with multiple threading.\n",
    "If that case happens, we advise to install/reinstall the package with threading disable:"
   ]
  },
  {
   "cell_type": "code",
   "execution_count": null,
   "metadata": {
    "datalore": {
     "hide_input_from_viewers": true,
     "hide_output_from_viewers": true,
     "node_id": "yTMC8ihcSA0OwkcZ218h2b",
     "type": "CODE"
    }
   },
   "outputs": [],
   "source": [
    "if (!require(\"BiocManager\", quietly = TRUE))\n",
    "    install.packages(\"BiocManager\")\n",
    "\n",
    "BiocManager::install(c(\"preprocessCore\", \"oligo\"), configure.args=\"--disable-threading\", force = T, update = F)"
   ]
  },
  {
   "attachments": {},
   "cell_type": "markdown",
   "metadata": {
    "datalore": {
     "hide_input_from_viewers": true,
     "hide_output_from_viewers": true,
     "node_id": "BKvmCBVvAqUdVfw9Ubrw4M",
     "type": "MD"
    }
   },
   "source": [
    "## **Installation**"
   ]
  },
  {
   "cell_type": "code",
   "execution_count": null,
   "metadata": {
    "datalore": {
     "hide_input_from_viewers": true,
     "hide_output_from_viewers": true,
     "node_id": "OicVzuhd0dR9bvuuKFhylV",
     "type": "CODE"
    }
   },
   "outputs": [],
   "source": [
    "# Install from CRAN\n",
    "# install.packages(\"RCPA\")\n",
    "\n",
    "# Install from GitHub (developer's version)\n",
    "install.packages(\"remotes\")\n",
    "remotes::install_github('tinnlab/RCPA', upgrade = F, force = T)"
   ]
  },
  {
   "attachments": {},
   "cell_type": "markdown",
   "metadata": {
    "datalore": {
     "hide_input_from_viewers": true,
     "hide_output_from_viewers": true,
     "node_id": "4HuAxLYIxlNOvPIiSjFNlY",
     "type": "MD"
    }
   },
   "source": [
    "## **Load the required libraries**"
   ]
  },
  {
   "cell_type": "code",
   "execution_count": null,
   "metadata": {
    "datalore": {
     "hide_input_from_viewers": true,
     "hide_output_from_viewers": true,
     "node_id": "1bWJyzgVDeBPb2v8uGvlOB",
     "type": "CODE"
    }
   },
   "outputs": [],
   "source": [
    "# Unload RCPA if being used\n",
    "unloadNamespace(\"RCPA\")\n",
    "# Load the libraries:\n",
    "library(RCPA)\n",
    "library(SummarizedExperiment)\n",
    "library(ggplot2)"
   ]
  },
  {
   "attachments": {},
   "cell_type": "markdown",
   "metadata": {
    "datalore": {
     "hide_input_from_viewers": true,
     "hide_output_from_viewers": true,
     "node_id": "7S3JOCWNWr8Rc6dKGav04A",
     "type": "MD"
    }
   },
   "source": [
    "## **Basic Protocol 1: PROCESSING AFFYMETRIX MICROARRAY**"
   ]
  },
  {
   "cell_type": "markdown",
   "source": [
    "Prepare the CELL files and sample information file:"
   ],
   "metadata": {
    "collapsed": false
   }
  },
  {
   "cell_type": "code",
   "execution_count": null,
   "metadata": {
    "datalore": {
     "hide_input_from_viewers": true,
     "hide_output_from_viewers": true,
     "node_id": "I1mGm6CjBXNCveSE87MfoZ",
     "type": "CODE"
    }
   },
   "outputs": [],
   "source": [
    "# Create a local directory to save the data:\n",
    "userPath <- tempdir() # or replace tempdir() with user-defined directory path\n",
    "downloadPath <- file.path(userPath, \"GSE5281\")\n",
    "if(!dir.exists(downloadPath)) dir.create(downloadPath)\n",
    "\n",
    "# Download the data\n",
    "downloadedFiles <- RCPA::downloadGEO(GEOID = \"GSE5281\", \n",
    "                                platform = \"GPL570\", \n",
    "                                protocol = \"affymetrix\", \n",
    "                                destDir = downloadPath)\n",
    "\n",
    "# Display downloadedFiles\n",
    "head(downloadedFiles)"
   ]
  },
  {
   "cell_type": "markdown",
   "metadata": {},
   "source": [
    "Read sample metadata"
   ]
  },
  {
   "cell_type": "code",
   "execution_count": null,
   "metadata": {},
   "outputs": [],
   "source": [
    "affySampleInfo <- read.csv(file.path(downloadPath, \"metadata.csv\"))\n",
    "\n",
    "# Display affyMetadata\n",
    "head(affySampleInfo[, c(\"geo_accession\", \"characteristics_ch1.4\", \"characteristics_ch1.8\")])"
   ]
  },
  {
   "cell_type": "markdown",
   "source": [
    "Process the CEL files"
   ],
   "metadata": {
    "collapsed": false
   }
  },
  {
   "cell_type": "code",
   "execution_count": null,
   "metadata": {
    "datalore": {
     "hide_input_from_viewers": true,
     "hide_output_from_viewers": true,
     "node_id": "JZPOFT2SqGrPzNKN7WZjLF",
     "type": "CODE"
    }
   },
   "outputs": [],
   "source": [
    "# process downloaded Affymetrix data\n",
    "affyExprs <- RCPA::processAffymetrix(dir = downloadPath, samples = affySampleInfo$geo_accession)\n",
    "\n",
    "# Display affyExprs\n",
    "head(affyExprs, c(5, 6))"
   ]
  },
  {
   "cell_type": "markdown",
   "metadata": {},
   "source": [
    "Create `SummarizedExperiment` object for Affymemtrix dataset"
   ]
  },
  {
   "cell_type": "code",
   "execution_count": null,
   "metadata": {},
   "outputs": [],
   "source": [
    "affyDataset <- SummarizedExperiment(assays = affyExprs, colData = affySampleInfo)\n",
    "affyDataset"
   ]
  },
  {
   "cell_type": "markdown",
   "source": [
    "Access to the expression data stored in `SummarizedExperiment` object"
   ],
   "metadata": {
    "collapsed": false
   }
  },
  {
   "cell_type": "code",
   "execution_count": null,
   "outputs": [],
   "source": [
    "# access expression data\n",
    "affyExprs <- SummarizedExperiment::assay(affyDataset)\n",
    "\n",
    "# display affyExprs\n",
    "head(affyExprs, c(5, 6))"
   ],
   "metadata": {
    "collapsed": false
   }
  },
  {
   "cell_type": "markdown",
   "source": [
    "Access to the sample information stored in `SummarizedExperiment` object"
   ],
   "metadata": {
    "collapsed": false
   }
  },
  {
   "cell_type": "code",
   "execution_count": null,
   "outputs": [],
   "source": [
    "# Access to sample information\n",
    "affySampleInfo <- SummarizedExperiment::colData(affyDataset)\n",
    "\n",
    "# display affySampleInfo\n",
    "head(affySampleInfo[, c(\"title\", \"characteristics_ch1.4\", \"characteristics_ch1.8\")])"
   ],
   "metadata": {
    "collapsed": false
   }
  },
  {
   "attachments": {},
   "cell_type": "markdown",
   "metadata": {
    "datalore": {
     "hide_input_from_viewers": true,
     "hide_output_from_viewers": true,
     "node_id": "eq7yjGdkvFBBEG8yji0h32",
     "type": "MD"
    }
   },
   "source": [
    "## **Basic Prococol 2: PROCESSING AGILENT MICROARRAY**"
   ]
  },
  {
   "cell_type": "markdown",
   "source": [
    "Prepare the TXT files and sample information file"
   ],
   "metadata": {
    "collapsed": false
   }
  },
  {
   "cell_type": "code",
   "execution_count": null,
   "metadata": {
    "datalore": {
     "hide_input_from_viewers": true,
     "hide_output_from_viewers": true,
     "node_id": "fYTF9BFbe5mZ87DehIJ4hT",
     "type": "CODE"
    }
   },
   "outputs": [],
   "source": [
    "# Create a local directory to save the downloaded data:\n",
    "userPath <- tempdir()    # or user-defined directory path\n",
    "downloadPath <- file.path(userPath, \"GSE61196\")\n",
    "if(!dir.exists(downloadPath)) dir.create(downloadPath)"
   ]
  },
  {
   "cell_type": "code",
   "execution_count": null,
   "metadata": {},
   "outputs": [],
   "source": [
    "# Download the data\n",
    "downloadedFiles <- RCPA::downloadGEO(GEOID = \"GSE61196\", \n",
    "                                platform = \"GPL4133\", \n",
    "                                protocol = \"agilent\", \n",
    "                                destDir = downloadPath)\n",
    "\n",
    "# Display downloaded files\n",
    "head(downloadedFiles)"
   ]
  },
  {
   "cell_type": "markdown",
   "source": [
    "Read sample information and process Agilent TXT files"
   ],
   "metadata": {
    "collapsed": false
   }
  },
  {
   "cell_type": "code",
   "execution_count": null,
   "metadata": {},
   "outputs": [],
   "source": [
    "agilSampleInfo <- read.csv(file.path(downloadPath, \"metadata.csv\"))\n",
    "\n",
    "# Display affyMetadata\n",
    "agilSampleInfo[9:14, c(\"geo_accession\", \"characteristics_ch2.1\", \"tissue.ch2\")]"
   ]
  },
  {
   "cell_type": "code",
   "execution_count": null,
   "metadata": {
    "datalore": {
     "hide_input_from_viewers": true,
     "hide_output_from_viewers": true,
     "node_id": "XcDZCNnQYYcs50sjabCGdG",
     "type": "CODE"
    }
   },
   "outputs": [],
   "source": [
    "# process downloaded Agilent data\n",
    "agilExprs <- RCPA::processAgilent(dir = downloadPath, samples = agilSampleInfo$geo_accession, greenOnly = FALSE)\n",
    "# Display agilExprs\n",
    "agilExprs[9:14, 1:6]"
   ]
  },
  {
   "cell_type": "markdown",
   "source": [
    "Create a `SummarizedExperiment` object"
   ],
   "metadata": {
    "collapsed": false
   }
  },
  {
   "cell_type": "code",
   "execution_count": null,
   "metadata": {
    "datalore": {
     "hide_input_from_viewers": true,
     "hide_output_from_viewers": true,
     "node_id": "OMZKDwYfeH8R90EVMs7vKG",
     "type": "CODE"
    }
   },
   "outputs": [],
   "source": [
    "agilDataset <- SummarizedExperiment::SummarizedExperiment(assays = as.matrix(agilExprs), colData = agilSampleInfo)\n",
    "agilDataset"
   ]
  },
  {
   "cell_type": "markdown",
   "source": [
    "Access to the experession data and sample information stored in `SummarizedExperiment` object"
   ],
   "metadata": {
    "collapsed": false
   }
  },
  {
   "cell_type": "code",
   "execution_count": null,
   "outputs": [],
   "source": [
    "# Access expression data\n",
    "agilExprs <- SummarizedExperiment::assay(agilDataset)\n",
    "\n",
    "# Display agilExprs\n",
    "print(agilExprs[9:14, 1:6])"
   ],
   "metadata": {
    "collapsed": false
   }
  },
  {
   "cell_type": "code",
   "execution_count": null,
   "outputs": [],
   "source": [
    "# Access sample information\n",
    "agilSampleInfo <- SummarizedExperiment::colData(agilDataset)\n",
    "\n",
    "# Display agilSampleInfo\n",
    "print(agilSampleInfo[9:14, c(\"geo_accession\", \"characteristics_ch2.1\", \"tissue.ch2\")])"
   ],
   "metadata": {
    "collapsed": false
   }
  },
  {
   "attachments": {},
   "cell_type": "markdown",
   "metadata": {
    "datalore": {
     "hide_input_from_viewers": true,
     "hide_output_from_viewers": true,
     "node_id": "zlJKtrMrOIFA55Bg3tSxzT",
     "type": "MD"
    }
   },
   "source": [
    "## **Support Protocol 1: PROCESSING RNA SEQUENCING (RNA-SEQ)**"
   ]
  },
  {
   "attachments": {},
   "cell_type": "markdown",
   "metadata": {
    "datalore": {
     "hide_input_from_viewers": true,
     "hide_output_from_viewers": true,
     "node_id": "yN2BfYxDn9YZ8lUoydTZgr",
     "type": "MD"
    }
   },
   "source": [
    "First, we will get the sample information from GEO:"
   ]
  },
  {
   "cell_type": "code",
   "execution_count": null,
   "metadata": {
    "datalore": {
     "hide_input_from_viewers": true,
     "hide_output_from_viewers": true,
     "node_id": "GgnUUGKfYYDCOYYOThuqUi",
     "type": "CODE"
    }
   },
   "outputs": [],
   "source": [
    "userPath <- tempdir()    # or user-defined directory path\n",
    "downloadPath <- file.path(userPath, \"GSE153873\")\n",
    "if(!dir.exists(downloadPath)) dir.create(downloadPath)\n",
    "\n",
    "# Download the GEO object to get metadata\n",
    "GEOObject <- GEOquery::getGEO(GEO = \"GSE153873\", GSEMatrix = T, getGPL = T, destdir = downloadPath)\n",
    "\n",
    "# Check the length of GEOObject\n",
    "message(\"length: \", length(GEOObject))\n",
    "\n",
    "# Extract the dataset from the GEOObject\n",
    "samplesData <- GEOObject[[1]]\n",
    "\n",
    "# Export sample data\n",
    "metadata <- Biobase::pData(samplesData)\n",
    "\n",
    "# save the metadata for later use\n",
    "write.csv(metadata, file.path(downloadPath, \"metadata.csv\"))\n",
    "\n",
    "# preview the metadata\n",
    "as.data.frame(head(metadata[, c(\"title\", \"characteristics_ch1.1\", \"status\")]))"
   ]
  },
  {
   "attachments": {},
   "cell_type": "markdown",
   "metadata": {
    "datalore": {
     "hide_input_from_viewers": true,
     "hide_output_from_viewers": true,
     "node_id": "rhI8J2tTRWEJe4A4lB5vq0",
     "type": "MD"
    }
   },
   "source": [
    "Some datasets on GEO may be derived from different platforms. Therefore, the returned object is a list of different datasets. We can find out how many were used by checking the length of this object using `length()` function. Usually there will only be one platform and the dataset we want to analyse will be the first object in the list (`GEOObject[[1]]`)."
   ]
  },
  {
   "attachments": {},
   "cell_type": "markdown",
   "metadata": {
    "datalore": {
     "hide_input_from_viewers": true,
     "hide_output_from_viewers": true,
     "node_id": "IQUG1hiUxzFGXoTSgEjfoV",
     "type": "MD"
    }
   },
   "source": [
    "Second, we will download the count matrix file"
   ]
  },
  {
   "cell_type": "code",
   "execution_count": null,
   "metadata": {},
   "outputs": [],
   "source": [
    "# Download the supplementary files\n",
    "GEOquery::getGEOSuppFiles(GEO = \"GSE153873\", fetch_files = TRUE, baseDir = userPath)\n",
    "\n",
    "# Check the downloaded data files\n",
    "list.files(file.path(userPath, \"GSE153873\"))"
   ]
  },
  {
   "cell_type": "markdown",
   "metadata": {},
   "source": [
    "Examine the content of the count matrix file"
   ]
  },
  {
   "cell_type": "code",
   "execution_count": null,
   "metadata": {},
   "outputs": [],
   "source": [
    "# read some lines of the count matrix file\n",
    "countsFile <- file.path(userPath, \"GSE153873\", \"GSE153873_summary_count.star.txt.gz\")\n",
    "lines <- readLines(countsFile, n = 10)\n",
    "\n",
    "# display first 100 characters of each line\n",
    "print(substr(lines, 1, 50))"
   ]
  },
  {
   "cell_type": "markdown",
   "metadata": {},
   "source": [
    "Read sample information"
   ]
  },
  {
   "cell_type": "code",
   "execution_count": null,
   "metadata": {},
   "outputs": [],
   "source": [
    "RNASeqSampleInfo <- read.csv(file.path(downloadPath, \"metadata.csv\"), row.names = 1)\n",
    "head(RNASeqSampleInfo[, c(\"title\", \"characteristics_ch1.1\", \"status\")])"
   ]
  },
  {
   "cell_type": "code",
   "execution_count": null,
   "metadata": {
    "datalore": {
     "hide_input_from_viewers": true,
     "hide_output_from_viewers": true,
     "node_id": "oTIDgPjhbKF8A8GGbhSMnn",
     "type": "CODE"
    }
   },
   "outputs": [],
   "source": [
    "# read the count matrix file\n",
    "countsData <- read.table(countsFile, header = TRUE, sep = \"\\t\", fill = 0, row.names = 1, check.names = FALSE)\n",
    "# Print out the first 5 rows and 6 columns\n",
    "head(countsData, c(5,6))\n",
    "\n",
    "# Rearrange the column of the count matrix\n",
    "countsData <- countsData[, RNASeqSampleInfo$title]\n",
    "\n",
    "# Rename the column names\n",
    "colnames(countsData) <- rownames(RNASeqSampleInfo)\n",
    "\n",
    "# Preview the count matrix\n",
    "head(countsData, c(5,6))"
   ]
  },
  {
   "cell_type": "code",
   "execution_count": null,
   "metadata": {
    "datalore": {
     "hide_input_from_viewers": true,
     "hide_output_from_viewers": true,
     "node_id": "b7qjIBJZRATa8lo3BF0tOz",
     "type": "CODE"
    }
   },
   "outputs": [],
   "source": [
    "# Create the SummarizedExperiment object:\n",
    "RNASeqDataset <- SummarizedExperiment::SummarizedExperiment(assays = as.matrix(countsData), colData = metadata)\n",
    "print(RNASeqDataset)\n",
    "\n",
    "# Access the expression data:\n",
    "RNASeqExprs <- SummarizedExperiment::assay(RNASeqDataset)\n",
    "# Display RNASeqExprs\n",
    "message(\"RNASeqExprs:\")\n",
    "head(RNASeqExprs, c(5, 6))\n",
    "\n",
    "# Access to the sample infomation data\n",
    "RNASeqSampleInfo <- SummarizedExperiment::colData(RNASeqDataset)\n",
    "# Display RNASeqSampleInfo\n",
    "message(\"RNASeqSampleInfo:\")\n",
    "as.data.frame(RNASeqSampleInfo[1:5, c(\"characteristics_ch1\", \"characteristics_ch1.1\", \"disease state:ch1\")])"
   ]
  },
  {
   "attachments": {},
   "cell_type": "markdown",
   "metadata": {
    "datalore": {
     "hide_input_from_viewers": true,
     "hide_output_from_viewers": true,
     "node_id": "qhEjK9zidyiCXtXvf7Ov41",
     "type": "MD"
    }
   },
   "source": [
    "## **Basic Protocol 3: DIFFERENTIAL ANALYSIS OF MICROARRAY DATA (AFFYMETRIX AND AGILENT)**"
   ]
  },
  {
   "attachments": {},
   "cell_type": "markdown",
   "metadata": {
    "datalore": {
     "hide_input_from_viewers": true,
     "hide_output_from_viewers": true,
     "node_id": "aXkaIg8Krhf68jRaZmg1MY",
     "type": "MD"
    }
   },
   "source": [
    "**Affymetrix dataset**"
   ]
  },
  {
   "cell_type": "code",
   "execution_count": null,
   "metadata": {
    "datalore": {
     "hide_input_from_viewers": true,
     "hide_output_from_viewers": true,
     "node_id": "puH4AdEmVoPD85UVMDxL8H",
     "type": "CODE"
    }
   },
   "outputs": [],
   "source": [
    "# Load the Affymetrix data processed in Basic Protocol 1\n",
    "affyDataset <- RCPA::loadData(\"affyDataset\")"
   ]
  },
  {
   "attachments": {},
   "cell_type": "markdown",
   "metadata": {
    "datalore": {
     "hide_input_from_viewers": true,
     "hide_output_from_viewers": true,
     "node_id": "YM1kVte74At2NJjr5UVqhc",
     "type": "MD"
    }
   },
   "source": [
    "Now, we will create a design matrix for differential analysis:"
   ]
  },
  {
   "cell_type": "code",
   "execution_count": null,
   "metadata": {
    "datalore": {
     "hide_input_from_viewers": true,
     "hide_output_from_viewers": true,
     "node_id": "7JbWrnA4q0jvP3OJUYmA4S",
     "type": "CODE"
    }
   },
   "outputs": [],
   "source": [
    "# Read metadata from the SummarizedExperiment object named affyDataset\n",
    "affySampleInfo <- SummarizedExperiment::colData(affyDataset)\n",
    "# Add a column specifying the condition of each sample (normal or Alzheimer’s)\n",
    "affySampleInfo$condition <- ifelse(grepl(\"normal\",\n",
    "affySampleInfo$characteristics_ch1.8), \"normal\", \"alzheimer\")\n",
    "# Factorize the new column\n",
    "affySampleInfo$condition <- factor(affySampleInfo$condition)\n",
    "# Add a new column to specify the region of the sample tissue,\n",
    "# use make.names() to remove special characters and\n",
    "# use tolower() to make all characters lower case\n",
    "affySampleInfo$region <- make.names(affySampleInfo$characteristics_ch1.4)\n",
    "affySampleInfo$region <- tolower(affySampleInfo$region)\n",
    "# Factorize the newly added column\n",
    "affySampleInfo$region <- factor(affySampleInfo$region)\n",
    "# Update the affyDataset object\n",
    "SummarizedExperiment::colData(affyDataset) <- affySampleInfo\n",
    "# Create a design matrix\n",
    "affyDesign <- model.matrix(~0 +  condition + region + condition:region, data = affySampleInfo)\n",
    "# Remove special characters in column names\n",
    "colnames(affyDesign) <- make.names(colnames(affyDesign))\n",
    "# Print the design matrix\n",
    "affyDesign[1:5, 1:3]"
   ]
  },
  {
   "attachments": {},
   "cell_type": "markdown",
   "metadata": {
    "datalore": {
     "hide_input_from_viewers": true,
     "hide_output_from_viewers": true,
     "node_id": "V1h5iWF87uIUqdTnblNvAY",
     "type": "MD"
    }
   },
   "source": [
    "Next, we create a contrast matrix for differential analysis"
   ]
  },
  {
   "cell_type": "code",
   "execution_count": null,
   "metadata": {
    "datalore": {
     "hide_input_from_viewers": true,
     "hide_output_from_viewers": true,
     "node_id": "kzDKKDMvUpQ6nq41Ff0fYs",
     "type": "CODE"
    }
   },
   "outputs": [],
   "source": [
    "# Create a constrast matrix\n",
    "affyContrast <- limma::makeContrasts(conditionalzheimer-conditionnormal, levels = affyDesign)\n",
    "# Print contrast\n",
    "head(affyContrast)"
   ]
  },
  {
   "attachments": {},
   "cell_type": "markdown",
   "metadata": {
    "datalore": {
     "hide_input_from_viewers": true,
     "hide_output_from_viewers": true,
     "node_id": "jcPhTahtSoAr14L76icVJQ",
     "type": "MD"
    }
   },
   "source": [
    "Finally, we can perform differential analysis as follows:"
   ]
  },
  {
   "cell_type": "code",
   "execution_count": null,
   "metadata": {
    "datalore": {
     "hide_input_from_viewers": true,
     "hide_output_from_viewers": true,
     "node_id": "FSi8BYEcFhgSJiPwhp0dqI",
     "type": "CODE"
    }
   },
   "outputs": [],
   "source": [
    "# GPL570 requires package hgu133plus2.db to be installed\n",
    "# You will be asked to install the package if it is not installed\n",
    "# Here we install it beforehand\n",
    "BiocManager::install(\"hgu133plus2.db\", update = F)\n",
    "\n",
    "# Run differential expression analysis\n",
    "affyDEExperiment <- RCPA::runDEAnalysis(affyDataset, method = \"limma\", \n",
    "                                        design = affyDesign, contrast = affyContrast, \n",
    "                                        annotation = \"GPL570\")\n",
    "# Display affyDEExperiment\n",
    "affyDEExperiment"
   ]
  },
  {
   "attachments": {},
   "cell_type": "markdown",
   "metadata": {
    "datalore": {
     "hide_input_from_viewers": true,
     "hide_output_from_viewers": true,
     "node_id": "ebgxw5SQcNJZWTD0oL2FtI",
     "type": "MD"
    }
   },
   "source": [
    "The function `runDEAnalysis()` also returns a `SummarizedExperiment` object, in which the differential analysis result is stored under `rowData` attribute. We can use the following code to access to the result:"
   ]
  },
  {
   "cell_type": "code",
   "execution_count": null,
   "metadata": {
    "datalore": {
     "hide_input_from_viewers": true,
     "hide_output_from_viewers": true,
     "node_id": "Y9nfJEVOM7VfEr1rXbDzZ2",
     "type": "CODE"
    }
   },
   "outputs": [],
   "source": [
    "# Extract the differential analysis result\n",
    "affyDEResults <- SummarizedExperiment::rowData(affyDEExperiment)\n",
    "# Print in R console\n",
    "as.data.frame(head(affyDEResults, c(3,5)))"
   ]
  },
  {
   "attachments": {},
   "cell_type": "markdown",
   "metadata": {
    "datalore": {
     "hide_input_from_viewers": true,
     "hide_output_from_viewers": true,
     "node_id": "t1KjMEj9abzTfvmxZlK5cE",
     "type": "MD"
    }
   },
   "source": [
    "We can visualize the differential analysis result using an MA plot:"
   ]
  },
  {
   "cell_type": "code",
   "execution_count": null,
   "metadata": {},
   "outputs": [],
   "source": [
    "# This code is specific for Jupyter notebook environment to control the plot size\n",
    "options(repr.plot.width = 10, repr.plot.height = 10)"
   ]
  },
  {
   "cell_type": "code",
   "execution_count": null,
   "metadata": {
    "datalore": {
     "hide_input_from_viewers": true,
     "hide_output_from_viewers": true,
     "node_id": "9zoX0hw9XyUo8Gh4ZLwo3g",
     "type": "CODE"
    }
   },
   "outputs": [],
   "source": [
    " # Visualize the differential analysis results using MA plot\n",
    "RCPA::plotMA(affyDEResults, logFCThreshold = 0.5) + ggplot2::ggtitle(\"Affymetrix - GSE5281\")"
   ]
  },
  {
   "attachments": {},
   "cell_type": "markdown",
   "metadata": {
    "datalore": {
     "hide_input_from_viewers": true,
     "hide_output_from_viewers": true,
     "node_id": "4KvBhflcZd1Rb1wLt2lM4T",
     "type": "MD"
    }
   },
   "source": [
    "We can also use Volcano plot instead:"
   ]
  },
  {
   "cell_type": "code",
   "execution_count": null,
   "metadata": {
    "datalore": {
     "hide_input_from_viewers": true,
     "hide_output_from_viewers": true,
     "node_id": "VkC27MgiJYzIlGUPW9Jdds",
     "type": "CODE"
    }
   },
   "outputs": [],
   "source": [
    "# Visualize the differential analysis results using volcano plot\n",
    "RCPA::plotVolcanoDE(affyDEResults, logFCThreshold = 0.5) + ggplot2::ggtitle(\"Affymetrix - GSE5281\")"
   ]
  },
  {
   "attachments": {},
   "cell_type": "markdown",
   "metadata": {
    "datalore": {
     "hide_input_from_viewers": true,
     "hide_output_from_viewers": true,
     "node_id": "bXE2jH6whxdEw4RfyGjXYF",
     "type": "MD"
    }
   },
   "source": [
    "**Agilent dataset**"
   ]
  },
  {
   "cell_type": "code",
   "execution_count": null,
   "metadata": {
    "datalore": {
     "hide_input_from_viewers": true,
     "hide_output_from_viewers": true,
     "node_id": "rLFMDKCiHzNO99sdxIPoBW",
     "type": "CODE"
    }
   },
   "outputs": [],
   "source": [
    "# Load the Agilent data processed in Support Protocol 1\n",
    "agilDataset <- RCPA::loadData(\"agilDataset\")"
   ]
  },
  {
   "attachments": {},
   "cell_type": "markdown",
   "metadata": {
    "datalore": {
     "hide_input_from_viewers": true,
     "hide_output_from_viewers": true,
     "node_id": "oFf9h5hf4mrbGCtvUMdUx3",
     "type": "MD"
    }
   },
   "source": [
    "We also start with creating design matrix and contrast matrix"
   ]
  },
  {
   "cell_type": "code",
   "execution_count": null,
   "metadata": {
    "datalore": {
     "hide_input_from_viewers": true,
     "hide_output_from_viewers": true,
     "node_id": "5ZKHM6t9y6o1sStiRoPOVc",
     "type": "CODE"
    }
   },
   "outputs": [],
   "source": [
    "\n",
    "# Access to the sample infomation data\n",
    "agilSampleInfo <- SummarizedExperiment::colData(agilDataset)\n",
    "\n",
    "# Add a column specifying the condition of the sample,\n",
    "# which can be either normal or alzheimer\n",
    "agilSampleConditions <- ifelse(grepl(\"healthy\", agilSampleInfo$source_name_ch1), \"normal\", \"alzheimer\")\n",
    "# Factorize the newly added column\n",
    "agilSampleInfo$condition <- factor(agilSampleConditions)\n",
    "# Update the colData attribute with new column\n",
    "SummarizedExperiment::colData(agilDataset) <- agilSampleInfo\n",
    "\n",
    "# Create a design matrix\n",
    "agilDesign <- model.matrix(~0 + condition, data = SummarizedExperiment::colData(agilDataset))\n",
    "# Create a constrast matrix\n",
    "agilContrast <- limma::makeContrasts(\"conditionalzheimer-conditionnormal\", levels = agilDesign)"
   ]
  },
  {
   "attachments": {},
   "cell_type": "markdown",
   "metadata": {
    "datalore": {
     "hide_input_from_viewers": true,
     "hide_output_from_viewers": true,
     "node_id": "o7eYdaap7wMGAq4uQ9s79w",
     "type": "MD"
    }
   },
   "source": [
    "The platform of the dataset GSE61196 is GPL4133, whose annotation is not included in our package. Therefore, we need to manually create a mapping data frame that will be used as `annotation` input of `runDEAnalysis()` function. The following are the steps that users can use to obtain these information:"
   ]
  },
  {
   "cell_type": "code",
   "execution_count": null,
   "metadata": {
    "datalore": {
     "hide_input_from_viewers": true,
     "hide_output_from_viewers": true,
     "node_id": "cPxhq9sDo4KKaB8mkrh6fg",
     "type": "CODE"
    }
   },
   "outputs": [],
   "source": [
    "# Download the information for GPL4133 platform:\n",
    "GPL4133Pl <- GEOquery::getGEO(GEO = \"GPL4133\")\n",
    "\n",
    "# Access to the dataTable slot in GPL4133Pl:\n",
    "GPL4133Anno <- GEOquery::dataTable(GPL4133Pl)\n",
    "\n",
    "# Access to annotation data\n",
    "GPL4133AnnoTbl <- GEOquery::Table(GPL4133Anno)\n",
    "\n",
    "# Display annotation (GPL4133AnnoTbl)\n",
    "GPL4133AnnoTbl[9:14, c(\"SPOT_ID\", \"GENE\", \"GENE_SYMBOL\")]"
   ]
  },
  {
   "cell_type": "code",
   "execution_count": null,
   "metadata": {
    "datalore": {
     "hide_input_from_viewers": true,
     "hide_output_from_viewers": true,
     "node_id": "ICqkJc00a54b0uaJXwJVYz",
     "type": "CODE"
    }
   },
   "outputs": [],
   "source": [
    "\n",
    "# Create the mapping data frame\n",
    "GPL4133GeneMapping <- data.frame(FROM = GPL4133AnnoTbl$SPOT_ID, \n",
    "                                TO = as.character(GPL4133AnnoTbl$GENE), \n",
    "                                stringsAsFactors = F)\n",
    "                                \n",
    "#Display GPL4133GeneMapping:\n",
    "GPL4133GeneMapping[15:20,]"
   ]
  },
  {
   "attachments": {},
   "cell_type": "markdown",
   "metadata": {
    "datalore": {
     "hide_input_from_viewers": true,
     "hide_output_from_viewers": true,
     "node_id": "KUYGqaba8Eb4w5T2SZUvBL",
     "type": "MD"
    }
   },
   "source": [
    "We then can perform differential analysis as follows:"
   ]
  },
  {
   "cell_type": "code",
   "execution_count": null,
   "metadata": {
    "datalore": {
     "hide_input_from_viewers": true,
     "hide_output_from_viewers": true,
     "node_id": "m5kGdGamkEv75a4otGzenv",
     "type": "CODE"
    }
   },
   "outputs": [],
   "source": [
    "# Run differential expression analysis\n",
    "agilDEExperiment <- RCPA::runDEAnalysis(agilDataset, method = \"limma\", \n",
    "                                        design = agilDesign, contrast = agilContrast, \n",
    "                                        annotation = GPL4133GeneMapping)\n",
    "\n",
    "# Extract the outcome of differential expression analysis\n",
    "agilDEResults <- SummarizedExperiment::rowData(agilDEExperiment)\n",
    "\n",
    "# Print in R console\n",
    "as.data.frame(head(agilDEResults, c(3,5)))"
   ]
  },
  {
   "attachments": {},
   "cell_type": "markdown",
   "metadata": {
    "datalore": {
     "hide_input_from_viewers": true,
     "hide_output_from_viewers": true,
     "node_id": "4T7EUfpidmOvcVzuXeVc8B",
     "type": "MD"
    }
   },
   "source": [
    "Results visualization using MA plot and Volcano plot:"
   ]
  },
  {
   "cell_type": "code",
   "execution_count": null,
   "metadata": {
    "datalore": {
     "hide_input_from_viewers": true,
     "hide_output_from_viewers": true,
     "node_id": "XluRKiddr146l2JEmaSSCT",
     "type": "CODE"
    }
   },
   "outputs": [],
   "source": [
    "# MA plot\n",
    "RCPA::plotMA(agilDEResults, logFCThreshold = 0.5) +\n",
    "  ggplot2::ggtitle(\"Agilent - GSE61196\")\n",
    "      \n",
    "# Volcano plot\n",
    "RCPA::plotVolcanoDE(agilDEResults, logFCThreshold = 0.5) +\n",
    "  ggplot2::ggtitle(\"Agilent - GSE61196\")"
   ]
  },
  {
   "attachments": {},
   "cell_type": "markdown",
   "metadata": {
    "datalore": {
     "hide_input_from_viewers": true,
     "hide_output_from_viewers": true,
     "node_id": "fBUlEAmVMoYoimKgiPnbbg",
     "type": "MD"
    }
   },
   "source": [
    "## **Support Protocol 4: DIFFERENTIAL ANALYSIS OF RNA-SEQ DATA**"
   ]
  },
  {
   "cell_type": "code",
   "execution_count": null,
   "metadata": {
    "datalore": {
     "hide_input_from_viewers": true,
     "hide_output_from_viewers": true,
     "node_id": "du5ffs4wMmArYHdM9jXRep",
     "type": "CODE"
    }
   },
   "outputs": [],
   "source": [
    "# Load the RNA-Seq dataset\n",
    "RNASeqDataset <- RCPA::loadData(\"RNASeqDataset\")"
   ]
  },
  {
   "attachments": {},
   "cell_type": "markdown",
   "metadata": {
    "datalore": {
     "hide_input_from_viewers": true,
     "hide_output_from_viewers": true,
     "node_id": "ZzLBbw1YllKrxkFwjmNcPy",
     "type": "MD"
    }
   },
   "source": [
    "Create the design and contrast matrices:"
   ]
  },
  {
   "cell_type": "code",
   "execution_count": null,
   "metadata": {
    "datalore": {
     "hide_input_from_viewers": true,
     "hide_output_from_viewers": true,
     "node_id": "Zr5rNpWlC9yEbiqCbTVIyH",
     "type": "CODE"
    }
   },
   "outputs": [],
   "source": [
    "# Access to the sample infomation data\n",
    "RNASeqSampleInfo <- SummarizedExperiment::colData(RNASeqDataset)\n",
    "\n",
    "# Add a column specifying the condition of the sample,\n",
    "# which can be either normal or alzheimer\n",
    "RNASeqSampleConditions <- ifelse(grepl(\"Alzheimer\", RNASeqSampleInfo$characteristics_ch1.1), \"alzheimer\", \"normal\")\n",
    "\n",
    "# Factorize the newly added column\n",
    "RNASeqSampleInfo$condition <- factor(RNASeqSampleConditions)\n",
    "\n",
    "# Update the colData attribute with new column\n",
    "SummarizedExperiment::colData(RNASeqDataset) <- RNASeqSampleInfo\n",
    "\n",
    "# Create design matrix\n",
    "RNASeqDesign <- model.matrix(~0 + condition, data = SummarizedExperiment::colData(RNASeqDataset))\n",
    "\n",
    "# Create constrast matrix\n",
    "RNASeqContrast <- limma::makeContrasts(\"conditionalzheimer-conditionnormal\", levels = RNASeqDesign)"
   ]
  },
  {
   "attachments": {},
   "cell_type": "markdown",
   "metadata": {
    "datalore": {
     "hide_input_from_viewers": true,
     "hide_output_from_viewers": true,
     "node_id": "ujJlXZ0Qj4ZNUBHeFFcJCX",
     "type": "MD"
    }
   },
   "source": [
    "Create a mapping between the ID used in the assay data and Entrez ID:"
   ]
  },
  {
   "cell_type": "code",
   "execution_count": null,
   "metadata": {
    "datalore": {
     "hide_input_from_viewers": true,
     "hide_output_from_viewers": true,
     "node_id": "B65QYkZT18fRGOv0ziS92D",
     "type": "CODE"
    }
   },
   "outputs": [],
   "source": [
    "# Install the genome wide annotation database for human\n",
    "if (!require(\"BiocManager\", quietly = TRUE)) {\n",
    "    install.packages(\"BiocManager\")\n",
    "}\n",
    "BiocManager::install(\"org.Hs.eg.db\")\n",
    "\n",
    "# Load the annotation database\n",
    "library(org.Hs.eg.db)\n",
    "\n",
    "# Get current gene IDs used in RNA-Seq dataset\n",
    "RNASeqGeneIDs <- rownames(RNASeqDataset)\n",
    "\n",
    "# Create a mapping dataframe\n",
    "ENSEMBLMapping <- AnnotationDbi::select(x = org.Hs.eg.db, \n",
    "                                        keys = RNASeqGeneIDs, \n",
    "                                        keytype = \"SYMBOL\", \n",
    "                                        columns = c(\"SYMBOL\", \"ENTREZID\"))  \n",
    "colnames(ENSEMBLMapping) <- c(\"FROM\", \"TO\")\n",
    "\n",
    "# Print first 6 rows into R console\n",
    "head(ENSEMBLMapping)"
   ]
  },
  {
   "attachments": {},
   "cell_type": "markdown",
   "metadata": {
    "datalore": {
     "hide_input_from_viewers": true,
     "hide_output_from_viewers": true,
     "node_id": "IKQPiOL16rmOad3YLPVCEh",
     "type": "MD"
    }
   },
   "source": [
    "Perform differential analysis using the function `runDEAnalysis()`:"
   ]
  },
  {
   "cell_type": "code",
   "execution_count": null,
   "metadata": {
    "datalore": {
     "hide_input_from_viewers": true,
     "hide_output_from_viewers": true,
     "node_id": "so4ZIRpFwGRb4mZ8KW1kuI",
     "type": "CODE"
    }
   },
   "outputs": [],
   "source": [
    "# Perform differential analysis\n",
    "RNASeqDEExperiment <- RCPA::runDEAnalysis(RNASeqDataset, method = \"DESeq2\", \n",
    "                                        design = RNASeqDesign, contrast = RNASeqContrast, \n",
    "                                        annotation = ENSEMBLMapping)\n",
    "\n",
    "# Extract the differential analysis results\n",
    "RNASeqDEResults <- SummarizedExperiment::rowData(RNASeqDEExperiment)\n",
    "# Print out the obtained DE analysis results\n",
    "as.data.frame(head(RNASeqDEResults, c(3,5)))"
   ]
  },
  {
   "attachments": {},
   "cell_type": "markdown",
   "metadata": {
    "datalore": {
     "hide_input_from_viewers": true,
     "hide_output_from_viewers": true,
     "node_id": "SLjvuHW57681joYlAlCMMi",
     "type": "MD"
    }
   },
   "source": [
    "Visualize the results using MA and Volcano plot:"
   ]
  },
  {
   "cell_type": "code",
   "execution_count": null,
   "metadata": {
    "datalore": {
     "hide_input_from_viewers": true,
     "hide_output_from_viewers": true,
     "node_id": "PYu71t21s8noam52XSxIrn",
     "type": "CODE"
    }
   },
   "outputs": [],
   "source": [
    "# MA plot\n",
    "RCPA::plotMA(RNASeqDEResults, logFCThreshold = 0.5) +\n",
    "    ggplot2::ggtitle(\"RNASeq - GSE153873\")\n",
    "# Volcano plot\n",
    "RCPA::plotVolcanoDE(RNASeqDEResults, logFCThreshold = 0.5) +\n",
    "    ggplot2::ggtitle(\"RNASeq - GSE153873\")"
   ]
  },
  {
   "attachments": {},
   "cell_type": "markdown",
   "metadata": {
    "datalore": {
     "hide_input_from_viewers": true,
     "hide_output_from_viewers": true,
     "node_id": "y2jmqV2Zuh3I6garS1lmcp",
     "type": "MD"
    }
   },
   "source": [
    "## **Basic Protocol 5: GENE SET ENRICHMENT ANALYSIS**"
   ]
  },
  {
   "cell_type": "code",
   "execution_count": null,
   "metadata": {
    "datalore": {
     "hide_input_from_viewers": true,
     "hide_output_from_viewers": true,
     "node_id": "P2eu7mGWaSbLIIk0Ez3y36",
     "type": "CODE"
    }
   },
   "outputs": [],
   "source": [
    "# Loading differential results for Affymetrix data\n",
    "affyDEExperiment <- RCPA::loadData(\"affyDEExperiment\")\n",
    "# Loading the results for Agilent data\n",
    "agilDEExperiment <- RCPA::loadData(\"agilDEExperiment\")\n",
    "# Loading the results for RNA-Seq data\n",
    "RNASeqDEExperiment <- RCPA::loadData(\"RNASeqDEExperiment\")"
   ]
  },
  {
   "attachments": {},
   "cell_type": "markdown",
   "metadata": {
    "datalore": {
     "hide_input_from_viewers": true,
     "hide_output_from_viewers": true,
     "node_id": "jJ3l3bytbsYdoDy1EEuwaH",
     "type": "MD"
    }
   },
   "source": [
    "We will need to prepare the gene sets using the function `getGeneSets`:"
   ]
  },
  {
   "cell_type": "code",
   "execution_count": null,
   "metadata": {
    "datalore": {
     "hide_input_from_viewers": true,
     "hide_output_from_viewers": true,
     "node_id": "wFB0J1puQ45thFL7qTa4zf",
     "type": "CODE"
    }
   },
   "outputs": [],
   "source": [
    "# Download gene sets from KEGG for human\n",
    "KEGGGenesets <- RCPA::getGeneSets(database = \"KEGG\", org = \"hsa\")\n",
    "\n",
    "# OR Download the gene sets from GO database\n",
    "# taxid = 9606 for human \n",
    "GOTerms <- RCPA::getGeneSets(database = \"GO\", taxid = 9606, \n",
    "                            namespace = \"biological_process\")"
   ]
  },
  {
   "attachments": {},
   "cell_type": "markdown",
   "metadata": {
    "datalore": {
     "hide_input_from_viewers": true,
     "hide_output_from_viewers": true,
     "node_id": "J2IRX40fIYsfuJGovDPZtk",
     "type": "MD"
    }
   },
   "source": [
    "We will use the KEGG gene sets and perform enrichment analysis on them. Let us start with enrichment analysis using KS test:"
   ]
  },
  {
   "cell_type": "code",
   "execution_count": null,
   "metadata": {
    "datalore": {
     "hide_input_from_viewers": true,
     "hide_output_from_viewers": true,
     "node_id": "oiEnWSAx1XRxYlWojlJyBd",
     "type": "CODE"
    }
   },
   "outputs": [],
   "source": [
    "# Set seed to create reproducible results:\n",
    "set.seed(1)\n",
    "\n",
    "# Enrichment analysis using KS test and KEGG pathways:\n",
    "# For Affymetrix dataset:\n",
    "affyKSResult <- RCPA::runGeneSetAnalysis(summarizedExperiment = affyDEExperiment,\n",
    "                                        genesets = KEGGGenesets, method = \"ks\")\n",
    "\n",
    "# For Agilent dataset:\n",
    "agilKSResult <- RCPA::runGeneSetAnalysis(summarizedExperiment = agilDEExperiment,\n",
    "                                        genesets = KEGGGenesets, method = \"ks\")\n",
    "\n",
    "# For RNA-Seq dataset:\n",
    "RNASeqKSResult <- RCPA::runGeneSetAnalysis(summarizedExperiment = RNASeqDEExperiment,\n",
    "                                        genesets = KEGGGenesets, method = \"ks\")\n",
    "\n",
    "\n",
    "# Display the result for KS test, for example, using RNA-Seq dataset:\n",
    "RNASeqKSResult[1:5, c(\"ID\", \"p.value\", \"pFDR\", \"score\", \"name\")]"
   ]
  },
  {
   "cell_type": "markdown",
   "metadata": {
    "datalore": {
     "hide_input_from_viewers": true,
     "hide_output_from_viewers": true,
     "node_id": "ZyeCEo2KyWWrKCmdu7h3D1",
     "type": "CODE"
    }
   },
   "source": [
    "Enrichment analysis using Wilcoxon test:"
   ]
  },
  {
   "cell_type": "code",
   "execution_count": null,
   "metadata": {
    "datalore": {
     "hide_input_from_viewers": true,
     "hide_output_from_viewers": true,
     "node_id": "uRgAyLPUmorzTPZEFm4tUL",
     "type": "CODE"
    }
   },
   "outputs": [],
   "source": [
    "# Enrichment analysis using Wilcoxon test and KEGG pathways\n",
    "set.seed(1)\n",
    "\n",
    "# For Affymetrix dataset:\n",
    "affyWilcoxResult <- RCPA::runGeneSetAnalysis(summarizedExperiment = affyDEExperiment, \n",
    "                                            genesets = KEGGGenesets, \n",
    "                                            method = \"wilcox\")\n",
    "\n",
    "# For Agilent dataset:\n",
    "agilWilcoxResult <- RCPA::runGeneSetAnalysis(summarizedExperiment = agilDEExperiment, \n",
    "                                            genesets = KEGGGenesets, \n",
    "                                            method = \"wilcox\")\n",
    "\n",
    "# For RNA-Seq dataset:\n",
    "RNASeqWilcoxResult <- RCPA::runGeneSetAnalysis(summarizedExperiment = RNASeqDEExperiment, \n",
    "                                            genesets = KEGGGenesets, \n",
    "                                            method = \"wilcox\")\n",
    "\n",
    "# Display the result for Wilcoxon test, for example, using RNA-Seq dataset\n",
    "RNASeqWilcoxResult[1:5, c(\"ID\", \"p.value\", \"pFDR\", \"score\", \"name\")]"
   ]
  },
  {
   "attachments": {},
   "cell_type": "markdown",
   "metadata": {
    "datalore": {
     "hide_input_from_viewers": true,
     "hide_output_from_viewers": true,
     "node_id": "ynmaQEcT4OTKbRtgjXe8X6",
     "type": "MD"
    }
   },
   "source": [
    "Perform enrichment analysis using over-representation analysis (ORA):"
   ]
  },
  {
   "cell_type": "code",
   "execution_count": null,
   "metadata": {
    "datalore": {
     "hide_input_from_viewers": true,
     "hide_output_from_viewers": true,
     "node_id": "GgOSOcOLnO6yrY5O6XElrB",
     "type": "CODE"
    }
   },
   "outputs": [],
   "source": [
    "# Specify the threshold to identify DE genes, which are required for ORA\n",
    "oraArgsList <- list(pThreshold = 0.05)\n",
    "\n",
    "# Set seed to create reproducible results\n",
    "set.seed(1)\n",
    "\n",
    "# Enrichment analysis using ORA and KEGG pathways\n",
    "# For Affymetrix dataset:\n",
    "affyORAResult <- RCPA::runGeneSetAnalysis(summarizedExperiment = affyDEExperiment,\n",
    "                                          genesets = KEGGGenesets, method = \"ora\",\n",
    "                                          ORAArgs = oraArgsList)\n",
    "\n",
    "# For Agilent dataset:\n",
    "agilORAResult <- RCPA::runGeneSetAnalysis(summarizedExperiment = agilDEExperiment,\n",
    "                                          genesets = KEGGGenesets, method = \"ora\",\n",
    "                                          ORAArgs = oraArgsList)\n",
    "\n",
    "# For RNA-Seq dataset:\n",
    "RNASeqORAResult <- RCPA::runGeneSetAnalysis(summarizedExperiment = RNASeqDEExperiment,\n",
    "                                          genesets = KEGGGenesets, method = \"ora\",\n",
    "                                          ORAArgs = oraArgsList)\n",
    "\n",
    "# Display, for example, the result of RNA-Seq data:\n",
    "RNASeqORAResult[1:5, c(\"ID\", \"p.value\", \"pFDR\", \"score\", \"name\")]"
   ]
  },
  {
   "attachments": {},
   "cell_type": "markdown",
   "metadata": {
    "datalore": {
     "hide_input_from_viewers": true,
     "hide_output_from_viewers": true,
     "node_id": "phVnB1sIPXVDjPzJxTgLtS",
     "type": "MD"
    }
   },
   "source": [
    "Perform enrichment analysis using fast gene set enrichment analysis (FGSEA):"
   ]
  },
  {
   "cell_type": "code",
   "execution_count": null,
   "metadata": {
    "datalore": {
     "hide_input_from_viewers": true,
     "hide_output_from_viewers": true,
     "node_id": "oV8ta4S5OP6qpXSTiSP6tT",
     "type": "CODE"
    }
   },
   "outputs": [],
   "source": [
    "# Running fgsea requires the package fgsea to be installed\n",
    "# The runGeneSetAnalysis will ask to install the package if it is not already installed\n",
    "# Here we install it beforehand\n",
    "BiocManager::install(\"fgsea\", update = F)\n",
    "\n",
    "# Specify a list of arguments tailored for FGSEA:\n",
    "FGSEAArgsList <- list(minSize = 10)\n",
    "\n",
    "# Set seed to create reproducible results\n",
    "set.seed(1)\n",
    "\n",
    "# Enrichment analysis using FSGEA and KEGG pathway:\n",
    "# For Affymetrix dataset:\n",
    "affyFGSEAResult <- RCPA::runGeneSetAnalysis(summarizedExperiment = affyDEExperiment,\n",
    "                                            genesets = KEGGGenesets, method = \"fgsea\", \n",
    "                                            FgseaArgs = FGSEAArgsList)\n",
    "\n",
    "# For Agilent dataset:\n",
    "agilFGSEAResult <- RCPA::runGeneSetAnalysis(summarizedExperiment = agilDEExperiment,\n",
    "                                            genesets = KEGGGenesets, method = \"fgsea\", \n",
    "                                            FgseaArgs = FGSEAArgsList)\n",
    "\n",
    "# For RNA-Seq dataset:\n",
    "RNASeqFGSEAResult <- RCPA::runGeneSetAnalysis(summarizedExperiment = RNASeqDEExperiment,\n",
    "                                            genesets = KEGGGenesets, method = \"fgsea\",\n",
    "                                            FgseaArgs = FGSEAArgsList)\n",
    "\n",
    "# Display the result of RNA-Seq using FGSEA, for example:\n",
    "RNASeqFGSEAResult[c(1:5), c(\"ID\", \"p.value\", \"pFDR\", \"score\", \"name\")]"
   ]
  },
  {
   "attachments": {},
   "cell_type": "markdown",
   "metadata": {
    "datalore": {
     "hide_input_from_viewers": true,
     "hide_output_from_viewers": true,
     "node_id": "zxAVlWTacWIqxoW11wfw8t",
     "type": "MD"
    }
   },
   "source": [
    "Perform enrichment analysis using gene set analysis (GSA):"
   ]
  },
  {
   "cell_type": "code",
   "execution_count": null,
   "metadata": {
    "datalore": {
     "hide_input_from_viewers": true,
     "hide_output_from_viewers": true,
     "node_id": "ywNAIV6bTBGDAtS6qjz1F0",
     "type": "CODE"
    }
   },
   "outputs": [],
   "source": [
    "# Running GSA requires the package GSA to be installed\n",
    "# The runGeneSetAnalysis will ask to install the package if it is not already installed\n",
    "# Here we install it beforehand\n",
    "BiocManager::install(\"GSA\", update = F)\n",
    "\n",
    "# Specify the list of arguments customized for GSA\n",
    "GSAArgsList <- list(method = \"maxmean\", minsize = 15, maxsize = 500, nperms = 1000)\n",
    "\n",
    "# Set seed to create reproducible results\n",
    "set.seed(1)\n",
    "\n",
    "# Enrichment analysis using GSA and KEGG pathways\n",
    "# For Affymetrix dataset:\n",
    "affyGSAResult <- RCPA::runGeneSetAnalysis(summarizedExperiment = affyDEExperiment,\n",
    "                                          genesets = KEGGGenesets, method = \"gsa\", \n",
    "                                          GSAArgs = GSAArgsList)\n",
    "\n",
    "# For Agilent dataset:\n",
    "agilGSAResult <- RCPA::runGeneSetAnalysis(summarizedExperiment = agilDEExperiment,\n",
    "                                          genesets = KEGGGenesets, method = \"gsa\", \n",
    "                                          GSAArgs = GSAArgsList)\n",
    "\n",
    "# For RNA-Seq dataset\n",
    "RNASeqGSAResult <- RCPA::runGeneSetAnalysis(summarizedExperiment = RNASeqDEExperiment,\n",
    "                                        genesets = KEGGGenesets, method = \"gsa\",\n",
    "                                        GSAArgs = GSAArgsList)\n",
    "\n",
    "# Display the result of RNA-Seq using GSA:\n",
    "RNASeqGSAResult[c(1:5), c(\"ID\", \"p.value\", \"pFDR\", \"score\", \"name\")]"
   ]
  },
  {
   "attachments": {},
   "cell_type": "markdown",
   "metadata": {
    "datalore": {
     "hide_input_from_viewers": true,
     "hide_output_from_viewers": true,
     "node_id": "k4lrWvk9mVQ6wZptMcOKpw",
     "type": "MD"
    }
   },
   "source": [
    "Visualize the results using Volcano plot:"
   ]
  },
  {
   "cell_type": "code",
   "execution_count": null,
   "metadata": {
    "datalore": {
     "hide_input_from_viewers": true,
     "hide_output_from_viewers": true,
     "node_id": "5okJFFcDF8xpk5gje5jhiw",
     "type": "CODE"
    }
   },
   "outputs": [],
   "source": [
    "# Visualize the enrichment result of RNA-Seq using FGSEA\n",
    "# We can replace RNASeqFGSEAResult with other results as shown above:\n",
    "RCPA::plotVolcanoPathway(PAResult = RNASeqFGSEAResult, topToLabel = 10) +\n",
    "        ggplot2::ggtitle(\"RNASeq - GSE153873 - FGSEA\")"
   ]
  },
  {
   "attachments": {},
   "cell_type": "markdown",
   "metadata": {
    "datalore": {
     "hide_input_from_viewers": true,
     "hide_output_from_viewers": true,
     "node_id": "4GQ7yrTvjgonAPuJyioQSu",
     "type": "MD"
    }
   },
   "source": [
    "Visualize the results using forest plot:"
   ]
  },
  {
   "cell_type": "code",
   "execution_count": null,
   "metadata": {
    "datalore": {
     "hide_input_from_viewers": true,
     "hide_output_from_viewers": true,
     "node_id": "kC3mNGNwg69QxWPROkzKuI",
     "type": "CODE"
    }
   },
   "outputs": [],
   "source": [
    "# Create a list containing the top 20 pathways from the result\n",
    "# We can replace RNASeqFGSEAResult by other results as shown above:\n",
    "RNASeqFGSEAToPlot <- list(\"RNASeq - GSE153873 - FGSEA\" = RNASeqFGSEAResult[1:20,])\n",
    "\n",
    "# Generate forest plot:\n",
    "RCPA::plotForest(resultsList = RNASeqFGSEAToPlot, yAxis = \"name\", statLims = c(-3.5, 1))"
   ]
  },
  {
   "attachments": {},
   "cell_type": "markdown",
   "metadata": {
    "datalore": {
     "hide_input_from_viewers": true,
     "hide_output_from_viewers": true,
     "node_id": "pgVULwIWacnXml8hTJWvK4",
     "type": "MD"
    }
   },
   "source": [
    "Visualize the enrichment analysis results as a network of pathway graph (the function in this snippet requires a web browser to run):"
   ]
  },
  {
   "cell_type": "code",
   "execution_count": null,
   "metadata": {},
   "outputs": [],
   "source": [
    "# This code is specific for Jupyter Notebook to show the pathway network plots with a reasonable height\n",
    "IRdisplay::display_javascript('\n",
    "const style = document.createElement(\"style\")\n",
    "style.textContent = \"iframe.jp-OutputArea-output { height: 500px; }\" //change this to modify the height of the plot\n",
    "document.head.appendChild(style)\n",
    "')"
   ]
  },
  {
   "cell_type": "code",
   "execution_count": null,
   "metadata": {
    "datalore": {
     "hide_input_from_viewers": true,
     "hide_output_from_viewers": true,
     "node_id": "0csUtMvXGhAoHEYqJ62B1j",
     "type": "CODE"
    }
   },
   "outputs": [],
   "source": [
    "# Select top 20 pathways from the results\n",
    "# We can replace RNASeqFGSEAResult with other results as shown above:\n",
    "RNASeqFGSEAToPlot <- list(\"RNASeq - GSE153873 - FGSEA\" = RNASeqFGSEAResult[1:20,])\n",
    "\n",
    "# Get IDs for top 20 pathways\n",
    "selectedPathways <- RNASeqFGSEAResult$ID[1:20]\n",
    "\n",
    "# Generate network graph of selected pathways\n",
    "pltHtml <- RCPA::plotPathwayNetwork(\n",
    "    PAResults = RNASeqFGSEAToPlot,\n",
    "    genesets = KEGGGenesets,\n",
    "    selectedPathways = selectedPathways,\n",
    "    statistic = \"normalizedScore\",\n",
    "    mode = \"continuous\",\n",
    "    edgeThreshold = 0.75\n",
    ")"
   ]
  },
  {
   "attachments": {},
   "cell_type": "markdown",
   "metadata": {
    "datalore": {
     "hide_input_from_viewers": true,
     "hide_output_from_viewers": true,
     "node_id": "5dATobiCq3QQb62swVXfCJ",
     "type": "MD"
    }
   },
   "source": [
    "## **Basic Protocol 6: TOPOLOGY-BASED (TB) PATHWAY ANALYSIS**"
   ]
  },
  {
   "cell_type": "code",
   "execution_count": null,
   "metadata": {
    "datalore": {
     "hide_input_from_viewers": true,
     "hide_output_from_viewers": true,
     "node_id": "Q1OMTT4J39hpdml3uXNFT4",
     "type": "CODE"
    }
   },
   "outputs": [],
   "source": [
    "# loading differential results for Affymetrix data\n",
    "affyDEExperiment <- RCPA::loadData(\"affyDEExperiment\")\n",
    "# loading the results for Agilent data\n",
    "agilDEExperiment <- RCPA::loadData(\"agilDEExperiment\")\n",
    "# loading the results for RNA-Seq data\n",
    "RNASeqDEExperiment <- RCPA::loadData(\"RNASeqDEExperiment\")"
   ]
  },
  {
   "attachments": {},
   "cell_type": "markdown",
   "metadata": {
    "datalore": {
     "hide_input_from_viewers": true,
     "hide_output_from_viewers": true,
     "node_id": "1v7gtlk5Z5F2XmxLhaMKOU",
     "type": "MD"
    }
   },
   "source": [
    "Retrieve pathway topology from KEGG for SPIA:"
   ]
  },
  {
   "cell_type": "code",
   "execution_count": null,
   "metadata": {
    "datalore": {
     "hide_input_from_viewers": true,
     "hide_output_from_viewers": true,
     "node_id": "Kxe02UzzQNzlKM1UrzycwU",
     "type": "CODE"
    }
   },
   "outputs": [],
   "source": [
    "# Install required dependencies beforehand\n",
    "BiocManager::install(\"ROntoTools\", update = F)\n",
    "\n",
    "# Retrieve gene networks from KEGG for SPIA\n",
    "SPIANetwork <- RCPA::getSPIAKEGGNetwork(org = \"hsa\", updateCache = FALSE)"
   ]
  },
  {
   "attachments": {},
   "cell_type": "markdown",
   "metadata": {
    "datalore": {
     "hide_input_from_viewers": true,
     "hide_output_from_viewers": true,
     "node_id": "7lbeFxXNcZtWG8rfv9m1c9",
     "type": "MD"
    }
   },
   "source": [
    "Run SPIA on the three datasets:"
   ]
  },
  {
   "cell_type": "code",
   "execution_count": null,
   "metadata": {
    "datalore": {
     "hide_input_from_viewers": true,
     "hide_output_from_viewers": true,
     "node_id": "U1U4FZ6wqyHFYgsq1li8c0",
     "type": "CODE"
    }
   },
   "outputs": [],
   "source": [
    "\n",
    "# Specify the list of arguments specific for SPIA\n",
    "SPIAArgsList <- list(nB = 1000, pThreshold = 0.05)\n",
    "\n",
    "# Set seed to create reproducible results\n",
    "set.seed(1)\n",
    "\n",
    "# Run SPIA on Affymetrix dataset:\n",
    "affySPIAResult <- RCPA::runPathwayAnalysis(summarizedExperiment = affyDEExperiment,\n",
    "                                           network = SPIANetwork, method = \"spia\", \n",
    "                                           SPIAArgs = SPIAArgsList)\n",
    "\n",
    "# Run SPIA on Agilent dataset:\n",
    "agilSPIAResult <- RCPA::runPathwayAnalysis(summarizedExperiment = agilDEExperiment,\n",
    "                                           network = SPIANetwork, method = \"spia\", \n",
    "                                           SPIAArgs = SPIAArgsList)\n",
    "\n",
    "# Run SPIA on RNA-Seq dataset:\n",
    "RNASeqSPIAResult <- RCPA::runPathwayAnalysis(summarizedExperiment = RNASeqDEExperiment,\n",
    "                                            network = SPIANetwork, method = \"spia\",\n",
    "                                            SPIAArgs = SPIAArgsList)\n",
    "\n",
    "# Display the result for RNA-Seq dataset:\n",
    "RNASeqSPIAResult[1:5, c(\"ID\", \"p.value\", \"pFDR\", \"score\", \"name\")]"
   ]
  },
  {
   "attachments": {},
   "cell_type": "markdown",
   "metadata": {
    "datalore": {
     "hide_input_from_viewers": true,
     "hide_output_from_viewers": true,
     "node_id": "3THQ17tWQJLOI2QVeQrr1l",
     "type": "MD"
    }
   },
   "source": [
    "Retreive pathway topology from KEGG for CePa ORA and CePa GSA:"
   ]
  },
  {
   "cell_type": "code",
   "execution_count": null,
   "metadata": {
    "datalore": {
     "hide_input_from_viewers": true,
     "hide_output_from_viewers": true,
     "node_id": "TdubcHTl8IPp07q6pTkWjw",
     "type": "CODE"
    }
   },
   "outputs": [],
   "source": [
    "# Install required dependencies beforehand\n",
    "BiocManager::install(\"CePa\", update = F)\n",
    "\n",
    "# Retrieve pathway information from KEGG for CePa ORA and CePa GSA:\n",
    "CePaNetwork <- RCPA::getCePaPathwayCatalogue(org = \"hsa\", updateCache = FALSE)"
   ]
  },
  {
   "attachments": {},
   "cell_type": "markdown",
   "metadata": {
    "datalore": {
     "hide_input_from_viewers": true,
     "hide_output_from_viewers": true,
     "node_id": "kaLvsaE3CcU03kb7ZQXA1X",
     "type": "MD"
    }
   },
   "source": [
    "Perform pathway analysis using CePa ORA:"
   ]
  },
  {
   "cell_type": "code",
   "execution_count": null,
   "metadata": {
    "datalore": {
     "hide_input_from_viewers": true,
     "hide_output_from_viewers": true,
     "node_id": "CpFJSOdPshbdtC2VtlLL1C",
     "type": "CODE"
    }
   },
   "outputs": [],
   "source": [
    "# Specify the list of argument tailored for CePa ORA\n",
    "CePaORAArgsList <- list(cen = \"equal.weight\", pThreshold = 0.05)\n",
    "\n",
    "# Set seed to create reproducible results\n",
    "set.seed(1)\n",
    "\n",
    "# Run CePa ORA on Affymetrix dataset:\n",
    "affyCePaORAResult <- RCPA::runPathwayAnalysis(summarizedExperiment = affyDEExperiment,\n",
    "                                              network = CePaNetwork, method = \"cepaORA\", \n",
    "                                              CePaORAArgs = CePaORAArgsList)\n",
    "\n",
    "# Run CePa ORA on Agilent dataset:\n",
    "agilCePaORAResult <- RCPA::runPathwayAnalysis(summarizedExperiment = agilDEExperiment,\n",
    "                                              network = CePaNetwork, method = \"cepaORA\", \n",
    "                                              CePaORAArgs = CePaORAArgsList)\n",
    "\n",
    "# Run CePa ORA on RNA-Seq dataset:\n",
    "RNASeqCePaORAResult <- RCPA::runPathwayAnalysis(summarizedExperiment = RNASeqDEExperiment, \n",
    "                                                network = CePaNetwork, method = \"cepaORA\", \n",
    "                                                CePaORAArgs = CePaORAArgsList)\n",
    "                                                \n",
    "# Display the result for RNA-Seq dataset (for example):\n",
    "RNASeqCePaORAResult[1:5, c(\"ID\", \"p.value\", \"pFDR\", \"score\", \"name\")]"
   ]
  },
  {
   "cell_type": "markdown",
   "metadata": {
    "datalore": {
     "hide_input_from_viewers": true,
     "hide_output_from_viewers": true,
     "node_id": "0jtZWjdtKbkoILUj2DiWBn",
     "type": "CODE"
    }
   },
   "source": [
    "Perform pathway analysis using CePa GSA:"
   ]
  },
  {
   "cell_type": "code",
   "execution_count": null,
   "metadata": {
    "datalore": {
     "hide_input_from_viewers": true,
     "hide_output_from_viewers": true,
     "node_id": "PA9mJ9Wl54U5RiC5FUBAKT",
     "type": "CODE"
    }
   },
   "outputs": [],
   "source": [
    "# Specify the list of arguments tailored for CePa GSA\n",
    "CePaGSAArgsList <- list(cen = \"equal.weight\", nlevel = \"tvalue_abs\", plevel = \"mean\")\n",
    "\n",
    "# Set seed to reproducible results\n",
    "set.seed(1)\n",
    "\n",
    "# Run CePa GSA for Affymetrix dataset\n",
    "affyCePaGSAResult <- RCPA::runPathwayAnalysis(summarizedExperiment = affyDEExperiment,\n",
    "                                              network = CePaNetwork, method = \"cepaGSA\", \n",
    "                                              CePaGSAArgs = CePaGSAArgsList)\n",
    "\n",
    "# Run CePa GSA for Agilent dataset\n",
    "agilCePaGSAResult <- RCPA::runPathwayAnalysis(summarizedExperiment = agilDEExperiment,\n",
    "                                              network = CePaNetwork, method = \"cepaGSA\", \n",
    "                                              CePaGSAArgs = CePaGSAArgsList)\n",
    "\n",
    "# Run CePa GSA on RNA-Seq dataset\n",
    "RNASeqCePaGSAResult <- RCPA::runPathwayAnalysis(summarizedExperiment = RNASeqDEExperiment, \n",
    "                                                network = CePaNetwork, method = \"cepaGSA\", \n",
    "                                                CePaGSAArgs = CePaGSAArgsList)\n",
    "\n",
    "# Display the result for RNA-Seq dataset (for example):\n",
    "RNASeqCePaGSAResult[1:5, c(\"ID\", \"p.value\", \"pFDR\", \"score\", \"name\")]"
   ]
  },
  {
   "attachments": {},
   "cell_type": "markdown",
   "metadata": {
    "datalore": {
     "hide_input_from_viewers": true,
     "hide_output_from_viewers": true,
     "node_id": "IFTWUGNBf1dtCn13OiVFzl",
     "type": "MD"
    }
   },
   "source": [
    "Visualize the results using volcano, forest plot and network of pathways:"
   ]
  },
  {
   "cell_type": "code",
   "execution_count": null,
   "metadata": {
    "datalore": {
     "hide_input_from_viewers": true,
     "hide_output_from_viewers": true,
     "node_id": "vVripgTpVK9PW0XuxBtJ7R",
     "type": "CODE"
    }
   },
   "outputs": [],
   "source": [
    "# Replace RNASeqSPIAResult with other results obtained from previous codes if needed\n",
    "# Generate volcano plot for SPIA results\n",
    "RCPA::plotVolcanoPathway(PAResult = RNASeqSPIAResult, topToLabel = 15) +\n",
    "    ggplot2::ggtitle(\"RNASeq - GSE153873 - SPIA\")\n",
    "\n",
    "# Generate volcano plot for SPIA results\n",
    "# Select top 20 pathways from the results\n",
    "RNASeqSPIAToPlot <- list(\"RNASeq - GSE153873 - SPIA\" = RNASeqSPIAResult[1:20,])\n",
    "selectedPathways <- RNASeqSPIAResult$ID[1:20]\n",
    "# Generate forest plot:\n",
    "RCPA::plotForest(resultsList = RNASeqSPIAToPlot, yAxis = \"name\", statLims = c(-4, 8))\n",
    "\n",
    "# Generate network graph of selected pathways\n",
    "pltHtml <- RCPA::plotPathwayNetwork(\n",
    "    PAResults = RNASeqSPIAToPlot,\n",
    "    genesets = KEGGGenesets,\n",
    "    selectedPathways = selectedPathways,\n",
    "    statistic = \"normalizedScore\",\n",
    "    mode = \"continuous\",\n",
    "    edgeThreshold = 0.75\n",
    ")"
   ]
  },
  {
   "attachments": {},
   "cell_type": "markdown",
   "metadata": {
    "datalore": {
     "hide_input_from_viewers": true,
     "hide_output_from_viewers": true,
     "node_id": "xQHTvnGrXOfcPGGRtZuzd3",
     "type": "MD"
    }
   },
   "source": [
    "## **Basic Protocol 7: DATA INTEGRATION AND VISUALIZATION**"
   ]
  },
  {
   "attachments": {},
   "cell_type": "markdown",
   "metadata": {
    "datalore": {
     "hide_input_from_viewers": true,
     "hide_output_from_viewers": true,
     "node_id": "oJEpWkFzQo0NoT2qNxOTjA",
     "type": "MD"
    }
   },
   "source": [
    "### **Gene-Level Meta-Analysis**"
   ]
  },
  {
   "cell_type": "code",
   "execution_count": null,
   "metadata": {
    "datalore": {
     "hide_input_from_viewers": true,
     "hide_output_from_viewers": true,
     "node_id": "ZNt9s0Jfy0IvGI9IeF3AWS",
     "type": "CODE"
    }
   },
   "outputs": [],
   "source": [
    "# Install required dependencies beforehand\n",
    "BiocManager::install(\"ggvenn\", update = F)\n",
    "\n",
    "# DE analysis result from Affymetrix dataset:\n",
    "affyDEExperiment <- RCPA::loadData(\"affyDEExperiment\")\n",
    "# DE analysis result from Agilent dataset:\n",
    "agilDEExperiment <- RCPA::loadData(\"agilDEExperiment\")\n",
    "# DE analysis result from RNA-Seq dataset:\n",
    "RNASeqDEExperiment <- RCPA::loadData(\"RNASeqDEExperiment\")\n",
    "\n",
    "# Extract the differential analysis result obtained from previous protocols\n",
    "affyDEResults <- SummarizedExperiment::rowData(affyDEExperiment)\n",
    "agilDEResults <- SummarizedExperiment::rowData(agilDEExperiment)\n",
    "RNASeqDEResults <- SummarizedExperiment::rowData(RNASeqDEExperiment)\n",
    "\n",
    "# Prepare the input list of DE results\n",
    "DEResults <- list(\n",
    "    \"Affymetrix - GSE5281\" = affyDEResults,\n",
    "    \"Agilent - GSE61196\" = agilDEResults,\n",
    "    \"RNASeq - GSE153873\" = RNASeqDEResults\n",
    ")\n",
    "\n",
    "# Generate a venn diagram plot\n",
    "RCPA::plotVennDE(DEResults = DEResults, topToList = 10)"
   ]
  },
  {
   "cell_type": "code",
   "execution_count": null,
   "metadata": {
    "datalore": {
     "hide_input_from_viewers": true,
     "hide_output_from_viewers": true,
     "node_id": "15OJ6NPSWTNXYv8y4z5KLF",
     "type": "CODE"
    }
   },
   "outputs": [],
   "source": [
    "\n",
    "# Retrieve a list of common DE genes among multiple datasets\n",
    "commonDEGenes <- RCPA::getCommonDEGenes(DEResults = DEResults)\n",
    "\n",
    "# Display the commonDEGenes\n",
    "commonDEGenes[1:5,]"
   ]
  },
  {
   "cell_type": "code",
   "execution_count": null,
   "metadata": {
    "datalore": {
     "hide_input_from_viewers": true,
     "hide_output_from_viewers": true,
     "node_id": "Ni5TeLzQfpuZdRUFoIxmwh",
     "type": "CODE"
    }
   },
   "outputs": [],
   "source": [
    "# Install required dependencies beforehand\n",
    "BiocManager::install(\"meta\", update = F)\n",
    "\n",
    "# Perform meta-analysis using Stouffer’s method\n",
    "metaDEResult <- RCPA::runDEMetaAnalysis(DEResults = DEResults, method = \"stouffer\")\n",
    "\n",
    "# Display the result:\n",
    "head(metaDEResult)"
   ]
  },
  {
   "cell_type": "code",
   "execution_count": null,
   "metadata": {
    "datalore": {
     "hide_input_from_viewers": true,
     "hide_output_from_viewers": true,
     "node_id": "mFk2SXLFguVEF9Q6c6GEWZ",
     "type": "CODE"
    }
   },
   "outputs": [],
   "source": [
    "# Select top 20 most significant genes:\n",
    "genesToPlot <- metaDEResult$ID[1:20]\n",
    "\n",
    "# Get the full description of the genesToPlot:\n",
    "genesAnnotation <- RCPA::getEntrezAnnotation(genesToPlot)\n",
    "labels <- genesAnnotation[genesToPlot, \"Description\"]\n",
    "\n",
    "# Create a list containing the results from individual analysis and meta analysis\n",
    "affyDEResults <- SummarizedExperiment::rowData(affyDEExperiment)\n",
    "agilDEResults <- SummarizedExperiment::rowData(agilDEExperiment)\n",
    "RNASeqDEResults <- SummarizedExperiment::rowData(RNASeqDEExperiment)\n",
    "\n",
    "resultsToPlot <- list(\n",
    "    \"Affymetrix - GSE5281\" = affyDEResults,\n",
    "    \"Agilent - GSE61196\" = agilDEResults,\n",
    "    \"RNASeq - GSE153873\" = RNASeqDEResults,\n",
    "    \"Meta-analysis\" = metaDEResult\n",
    ")\n",
    "# Generate gene heatmap\n",
    "plt <- RCPA::plotDEGeneHeatmap(DEResults = resultsToPlot, \n",
    "                        genes = genesToPlot, labels = labels, \n",
    "                        negLog10pValueLims = c(0, 5), logFCLims = c(-1, 1))\n",
    "\n",
    "plt"
   ]
  },
  {
   "cell_type": "code",
   "execution_count": null,
   "metadata": {
    "datalore": {
     "hide_input_from_viewers": true,
     "hide_output_from_viewers": true,
     "node_id": "iFS1R7ksBaJF2O9qUSDeTw",
     "type": "CODE"
    }
   },
   "outputs": [],
   "source": [
    "# Select columns in the results of differential analysis:\n",
    "selectedColumns <- colnames(metaDEResult)\n",
    "print(selectedColumns)\n",
    "\n",
    "# Prepare the list for plotting\n",
    "DEResultsToPlot <- list(\n",
    "    \"Affymetrix - GSE5281\" = affyDEResults[, selectedColumns],\n",
    "    \"Agilent - GSE61196\" = agilDEResults[, selectedColumns],\n",
    "    \"RNASeq - GSE153873\" = RNASeqDEResults[, selectedColumns],\n",
    "    \"Meta-analysis\" = metaDEResult\n",
    ")\n",
    "# Plot for KEGG Alzheimer’s Disease pathway\n",
    "pltObj <- RCPA::plotKEGGMap(DEResults = DEResultsToPlot, \n",
    "                            KEGGPathwayID = \"hsa05010\", \n",
    "                            stat = \"logFC\", \n",
    "                            pThreshold = 1, statLimit = 1)\n",
    "\n",
    "# This code is specific for Jupyter notebook environment to control the plot size\n",
    "options(repr.plot.width = pltObj$width/250, repr.plot.height = pltObj$height/250)\n",
    "\n",
    "# Display the plot\n",
    "pltObj$plot"
   ]
  },
  {
   "attachments": {},
   "cell_type": "markdown",
   "metadata": {
    "datalore": {
     "hide_input_from_viewers": true,
     "hide_output_from_viewers": true,
     "node_id": "Y7ER1gdtTRsMy3WClAfZ03",
     "type": "MD"
    }
   },
   "source": [
    "### **Pathway-Level Meta-Analysis**"
   ]
  },
  {
   "cell_type": "code",
   "execution_count": null,
   "metadata": {
    "datalore": {
     "hide_input_from_viewers": true,
     "hide_output_from_viewers": true,
     "node_id": "61hr4bG6RZcu6NqM99wl1x",
     "type": "CODE"
    }
   },
   "outputs": [],
   "source": [
    "# FGSEA analysis result from Affymetrix dataset:\n",
    "affyFGSEAResult <- RCPA::loadData(\"affyFGSEAResult\")\n",
    "# FGSEA analysis result from Agilent dataset:\n",
    "agilFGSEAResult <- RCPA::loadData(\"agilFGSEAResult\")\n",
    "# FGSEA analysis result from RNA-Seq dataset:\n",
    "RNASeqFGSEAResult <- RCPA::loadData(\"RNASeqFGSEAResult\")\n",
    "\n",
    "# # Load the KEGG gene sets\n",
    "# KEGGGenesets <- RCPA::loadData(\"KEGGGenesets\")\n",
    "\n",
    "# Load the KEGG gene sets\n",
    "KEGGGenesets <- RCPA::loadData(\"KEGGgenesets\")\n",
    "\n",
    "# Compile a list of pathway analysis results\n",
    "PAResults <- list(\n",
    "    \"Affymetrix - GSE5281\" = affyFGSEAResult,\n",
    "    \"Agilent - GSE61196\" = agilFGSEAResult,\n",
    "    \"RNASeq - GSE153873\" = RNASeqFGSEAResult\n",
    ")\n",
    "\n",
    "# This code is specific for Jupyter notebook environment to control the plot size\n",
    "options(repr.plot.width = 10, repr.plot.height = 10)\n",
    "\n",
    "# Plot venn diagram\n",
    "RCPA::plotVennPathway(PAResults = PAResults, pThreshold = 0.05)"
   ]
  },
  {
   "cell_type": "code",
   "execution_count": null,
   "metadata": {
    "datalore": {
     "hide_input_from_viewers": true,
     "hide_output_from_viewers": true,
     "node_id": "jgxmxI3iroM0xji3EPlCJO",
     "type": "CODE"
    }
   },
   "outputs": [],
   "source": [
    "\n",
    "# Query a list of common pathways\n",
    "commonPathways <- RCPA::getCommonPathways(PAResults = PAResults)\n",
    "\n",
    "# Display the results:\n",
    "commonPathways[1:5,]"
   ]
  },
  {
   "cell_type": "code",
   "execution_count": null,
   "metadata": {
    "datalore": {
     "hide_input_from_viewers": true,
     "hide_output_from_viewers": true,
     "node_id": "pzcW5uJlc1Fgxug9VdRuMa",
     "type": "CODE"
    }
   },
   "outputs": [],
   "source": [
    "# Meta-analysis using Stouffer’s method\n",
    "metaPAResult <- RCPA::runPathwayMetaAnalysis(PAResults = PAResults, method = \"stouffer\")\n",
    "\n",
    "# Display the results:\n",
    "metaPAResult[1:5, 1:5]"
   ]
  },
  {
   "cell_type": "code",
   "execution_count": null,
   "metadata": {
    "datalore": {
     "hide_input_from_viewers": true,
     "hide_output_from_viewers": true,
     "node_id": "WUhXZh6PYVfQLd3nSrWN3N",
     "type": "CODE"
    }
   },
   "outputs": [],
   "source": [
    "# Select top 30 significant from meta-analysis\n",
    "selectedPathways <- metaPAResult$ID[1:30]\n",
    "# Create a list of pathway analysis results of these 30 pathways\n",
    "PAResultsToPlot <- list(\n",
    "    \"Affymetrix - GSE5281\" = affyFGSEAResult,\n",
    "    \"Agilent - GSE61196\" = agilFGSEAResult,\n",
    "    \"RNASeq - GSE153873\" = RNASeqFGSEAResult,\n",
    "    \"Meta-analysis\" = metaPAResult\n",
    ")\n",
    "\n",
    "# Plot bar chart\n",
    "RCPA::plotBarChart(results = PAResultsToPlot, selectedPathways = selectedPathways) +\n",
    "    ggplot2::ggtitle(\"FGSEA Analysis Results\")"
   ]
  },
  {
   "cell_type": "code",
   "execution_count": null,
   "metadata": {
    "datalore": {
     "hide_input_from_viewers": true,
     "hide_output_from_viewers": true,
     "node_id": "pzjgIrKabYglRoUtHWBGSP",
     "type": "CODE"
    }
   },
   "outputs": [],
   "source": [
    "\n",
    "# Plot heat map\n",
    "RCPA::plotPathwayHeatmap(resultsList = PAResultsToPlot, \n",
    "                        yAxis = \"name\", \n",
    "                        selectedPathways = selectedPathways)"
   ]
  },
  {
   "cell_type": "code",
   "execution_count": null,
   "metadata": {
    "datalore": {
     "hide_input_from_viewers": true,
     "hide_output_from_viewers": true,
     "node_id": "9mfyduEh77knaDwlHTwcAg",
     "type": "CODE"
    }
   },
   "outputs": [],
   "source": [
    "# Select top 30 significant from meta-analysis\n",
    "selectedPathways <- metaPAResult$ID[1:30]\n",
    "# Create a list of pathway analysis results of these 30 pathways\n",
    "allPAResultsToPlot <- list(\n",
    "    \"Affymetrix - GSE5281\" = affyFGSEAResult,\n",
    "    \"Agilent - GSE61196\" = agilFGSEAResult,\n",
    "    \"RNASeq - GSE153873\" = RNASeqFGSEAResult,\n",
    "    \"Meta-analysis\" = metaPAResult\n",
    ")\n",
    "# Plot pathway network\n",
    "pltHtml <- RCPA::plotPathwayNetwork(\n",
    "    PAResults = allPAResultsToPlot,\n",
    "    genesets = KEGGGenesets,\n",
    "    selectedPathways = selectedPathways,\n",
    "    statistic = \"normalizedScore\",\n",
    "    mode = \"continuous\",\n",
    "    edgeThreshold = 0.75\n",
    ")"
   ]
  },
  {
   "attachments": {},
   "cell_type": "markdown",
   "metadata": {
    "datalore": {
     "hide_input_from_viewers": true,
     "hide_output_from_viewers": true,
     "node_id": "kHC6ZobuIjDV6YthlJgDt8",
     "type": "MD"
    }
   },
   "source": [
    "\n",
    "### **Pathway-Level Consensus Analysis**"
   ]
  },
  {
   "cell_type": "code",
   "execution_count": null,
   "metadata": {
    "datalore": {
     "hide_input_from_viewers": true,
     "hide_output_from_viewers": true,
     "node_id": "tjm0WTe98SIy3pRjKJlQPw",
     "type": "CODE"
    }
   },
   "outputs": [],
   "source": [
    "# Wilcoxon test results for RNA-Seq dataset:\n",
    "RNASeqWilcoxResult <- RCPA::loadData(\"RNASeqWilcoxResult\")\n",
    "# FGSEA results for RNA-Seq dataset:\n",
    "RNASeqFGSEAResult <- RCPA::loadData(\"RNASeqFGSEAResult\")\n",
    "# SPIA results for RNA-Seq dataset:\n",
    "RNASeqSPIAResult <- RCPA::loadData(\"RNASeqSPIAResult\")\n",
    "# Load the KEGG gene sets\n",
    "KEGGGenesets <- RCPA::loadData(\"KEGGGenesets\")\n",
    "\n",
    "# Prepare a list of results obtained from Wilcox test, FGSEA, and SPIA\n",
    "selectedRNASeqPAResults <- list(\n",
    "    \"Wilcox\" = RNASeqWilcoxResult,\n",
    "    \"FGSEA\" = RNASeqFGSEAResult,\n",
    "    \"SPIA\" = RNASeqSPIAResult\n",
    ")\n",
    "\n",
    "# Plot Venn diagram\n",
    "RCPA::plotVennPathway(PAResults= selectedRNASeqPAResults, pThreshold = 0.05)"
   ]
  },
  {
   "cell_type": "code",
   "execution_count": null,
   "metadata": {
    "datalore": {
     "hide_input_from_viewers": true,
     "hide_output_from_viewers": true,
     "node_id": "KN2XEedvpZ9Wd5hp7r10bb",
     "type": "CODE"
    }
   },
   "outputs": [],
   "source": [
    "# Query a list of common pathways from Wilcox Test, FGSEA, SPIA:\n",
    "commonPathways <- RCPA::getCommonPathways(PAResults = selectedRNASeqPAResults)\n",
    "# Display the result\n",
    "commonPathways[1:5,]"
   ]
  },
  {
   "cell_type": "code",
   "execution_count": null,
   "metadata": {
    "datalore": {
     "hide_input_from_viewers": true,
     "hide_output_from_viewers": true,
     "node_id": "jMq77x6noonfNjll8S6EGa",
     "type": "CODE"
    }
   },
   "outputs": [],
   "source": [
    "# Set seed to create reproducible result:\n",
    "set.seed(1)\n",
    "\n",
    "# Run consensus analysis using weightedZMean:\n",
    "consensusWZRNASeqPAResult <- RCPA::runConsensusAnalysis(PAResults = selectedRNASeqPAResults, \n",
    "                                                        method = \"weightedZMean\")\n",
    "\n",
    "# Display the result\n",
    "consensusWZRNASeqPAResult[1:6, c(\"ID\", \"p.value\", \"pFDR\", \"name\")]\n",
    "\n",
    "# Run consensus analysis using RRA\n",
    "consensusRRARNASeqPAResult <- RCPA::runConsensusAnalysis(PAResults = selectedRNASeqPAResults, \n",
    "                                                        method = \"RRA\", rank.by = \"both\")\n",
    "\n",
    "# Display the result\n",
    "consensusRRARNASeqPAResult[1:5, c(\"ID\", \"p.value\", \"pFDR\", \"name\")]"
   ]
  },
  {
   "cell_type": "code",
   "execution_count": null,
   "metadata": {
    "datalore": {
     "hide_input_from_viewers": true,
     "hide_output_from_viewers": true,
     "node_id": "ObKplsk5aKXLsR6tiXkCwA",
     "type": "CODE"
    }
   },
   "outputs": [],
   "source": [
    "# Generate pathway network for consensus analysis:\n",
    "# Create a list of results to plot:\n",
    "selectedCCRNASeqPAResults <- list(\n",
    "    \"Wilcox\" = RNASeqWilcoxResult,\n",
    "    \"FGSEA\" = RNASeqFGSEAResult,\n",
    "    \"SPIA\" = RNASeqSPIAResult,\n",
    "    \"Consensus - weightedZMean\" = consensusWZRNASeqPAResult\n",
    ")\n",
    "\n",
    "# Select to plot top 30 most significant pathways\n",
    "# from consensus analysis using weightedZMean:\n",
    "selectedPathways <- consensusWZRNASeqPAResult$ID[1:30]\n",
    "\n",
    "# Plot pathway network\n",
    "pltHtml <- RCPA::plotPathwayNetwork(\n",
    "    PAResults = selectedCCRNASeqPAResults,\n",
    "    genesets = KEGGGenesets,\n",
    "    selectedPathways = selectedPathways,\n",
    "    statistic = \"p.value\",\n",
    "    mode = \"discrete\",\n",
    "    pThreshold = 0.05,\n",
    "    edgeThreshold = 0.75\n",
    ")"
   ]
  },
  {
   "attachments": {},
   "cell_type": "markdown",
   "metadata": {
    "datalore": {
     "hide_input_from_viewers": true,
     "hide_output_from_viewers": true,
     "node_id": "7FnLlrQldqf3QTEEPRH6Ct",
     "type": "MD"
    }
   },
   "source": [
    "***Perform consensus analysis of multiple methods and datasets:***"
   ]
  },
  {
   "cell_type": "code",
   "execution_count": null,
   "metadata": {
    "datalore": {
     "hide_input_from_viewers": true,
     "hide_output_from_viewers": true,
     "node_id": "YbNsQpYwh7D4gFglDESgat",
     "type": "CODE"
    }
   },
   "outputs": [],
   "source": [
    "# Load the necessary data if users skipped the previous protocols\n",
    "# Enrichment results using Wilcoxon test:\n",
    "affyWilcoxResult <- RCPA::loadData(\"affyWilcoxResult\")\n",
    "RNASeqWilcoxResult <- RCPA::loadData(\"RNASeqWilcoxResult\")\n",
    "agilWilcoxResult <- RCPA::loadData(\"agilWilcoxResult\")\n",
    "\n",
    "# Enrichment results FGSEA:\n",
    "affyFGSEAResult <- RCPA::loadData(\"affyFGSEAResult\")\n",
    "agilFGSEAResult <- RCPA::loadData(\"agilFGSEAResult\")\n",
    "RNASeqFGSEAResult <- RCPA::loadData(\"RNASeqFGSEAResult\")\n",
    "\n",
    "# TB analysis using SPIA:\n",
    "affySPIAResult <- RCPA::loadData(\"affySPIAResult\")\n",
    "agilSPIAResult <- RCPA::loadData(\"agilSPIAResult\")\n",
    "RNASeqSPIAResult <- RCPA::loadData(\"RNASeqSPIAResult\")\n",
    "\n",
    "# Load the KEGG gene sets\n",
    "KEGGGenesets <- RCPA::loadData(\"KEGGGenesets\")\n",
    "\n",
    "# Create a list of results from multiple pathway analysis methods on multiple datasets:\n",
    "selectedPAResults <- list(\n",
    "    \"Affymetrix - Wilcox\" = affyWilcoxResult,\n",
    "    \"Affymetrix - FGSEA\" = affyFGSEAResult,\n",
    "    \"Affymetrix - SPIA\" = affySPIAResult,\n",
    "    \"Agilent - Wilcox\" = agilWilcoxResult,\n",
    "    \"Agilent - FGSEA\" = agilFGSEAResult,\n",
    "    \"Agilent - SPIA\" = agilSPIAResult,\n",
    "    \"RNASeq - Wilcox\" = RNASeqWilcoxResult,\n",
    "    \"RNASeq - FGSEA\" = RNASeqFGSEAResult,\n",
    "    \"RNASeq - SPIA\" = RNASeqSPIAResult\n",
    ")\n",
    "# Run consensus analysis using weightedZMean on selectedPAResults:\n",
    "consensusPAResult <- RCPA::runConsensusAnalysis(PAResults = selectedPAResults, \n",
    "                                                method = \"weightedZMean\")\n",
    "                                                \n",
    "# display the results\n",
    "consensusPAResult[1:6, c(\"ID\", \"p.value\", \"pFDR\", \"name\")]"
   ]
  },
  {
   "cell_type": "code",
   "execution_count": null,
   "metadata": {
    "datalore": {
     "hide_input_from_viewers": true,
     "hide_output_from_viewers": true,
     "node_id": "yDMCIxxhtVZmI4bNcFfHAk",
     "type": "CODE"
    }
   },
   "outputs": [],
   "source": [
    "# Select top 20 significant from consensus analysis\n",
    "selectedPathways <- consensusPAResult$ID[1:20]\n",
    "# Create a list of results to plot:\n",
    "selectedPAResultsToPlot <- list(\n",
    "    \"Affymetrix - Wilcox\" = affyWilcoxResult,\n",
    "    \"Affymetrix - FGSEA\" = affyFGSEAResult,\n",
    "    \"Affymetrix - SPIA\" = affySPIAResult,\n",
    "    \"Agilent - Wilcox\" = agilWilcoxResult,\n",
    "    \"Agilent - FGSEA\" = agilFGSEAResult,\n",
    "    \"Agilent - SPIA\" = agilSPIAResult,\n",
    "    \"RNASeq - Wilcox\" = RNASeqWilcoxResult,\n",
    "    \"RNASeq - FGSEA\" = RNASeqFGSEAResult,\n",
    "    \"RNASeq - SPIA\" = RNASeqSPIAResult,\n",
    "    \"Consensus Analaysis\" = consensusPAResult\n",
    ")\n",
    "# Plot pathway network\n",
    "pltHtml <- RCPA::plotPathwayNetwork(\n",
    "    PAResults = selectedPAResultsToPlot,\n",
    "    genesets = KEGGGenesets,\n",
    "    selectedPathways = selectedPathways,\n",
    "    statistic = \"p.value\",\n",
    "    mode = \"discrete\",\n",
    "    edgeThreshold = 0.75\n",
    ")"
   ]
  },
  {
   "cell_type": "code",
   "execution_count": null,
   "metadata": {
    "datalore": {
     "hide_input_from_viewers": true,
     "hide_output_from_viewers": true,
     "node_id": "5XVpMZbwZ4lQR5Av3da1Cu",
     "type": "CODE"
    }
   },
   "outputs": [],
   "source": [
    "# This code is specific for Jupyter notebook environment to control the plot size\n",
    "options(repr.plot.width = 20, repr.plot.height = 10)\n",
    "\n",
    "RCPA::plotPathwayHeatmap(resultsList = selectedPAResultsToPlot, \n",
    "                        yAxis = \"name\", \n",
    "                        selectedPathways = selectedPathways)"
   ]
  },
  {
   "cell_type": "code",
   "execution_count": null,
   "metadata": {},
   "outputs": [],
   "source": []
  },
  {
   "cell_type": "code",
   "execution_count": null,
   "metadata": {},
   "outputs": [],
   "source": []
  }
 ],
 "metadata": {
  "datalore": {
   "base_environment": "minimal",
   "computation_mode": "JUPYTER",
   "package_manager": "conda",
   "packages": [
    {
     "name": "BiocManager",
     "source": "CRAN"
    },
    {
     "name": "remotes",
     "source": "CRAN"
    }
   ],
   "report_row_ids": [],
   "version": 3
  },
  "kernelspec": {
   "display_name": "R",
   "language": "R",
   "name": "ir"
  },
  "language_info": {
   "codemirror_mode": "r",
   "file_extension": ".r",
   "mimetype": "text/x-r-source",
   "name": "R",
   "pygments_lexer": "r",
   "version": "4.1.2"
  }
 },
 "nbformat": 4,
 "nbformat_minor": 4
}
